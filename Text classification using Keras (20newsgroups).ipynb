{
 "cells": [
  {
   "cell_type": "markdown",
   "metadata": {},
   "source": [
    "***Dataset:*** http://qwone.com/~jason/20Newsgroups/"
   ]
  },
  {
   "cell_type": "code",
   "execution_count": 45,
   "metadata": {},
   "outputs": [],
   "source": [
    "import pandas as pd\n",
    "import numpy as np\n",
    "import pickle\n",
    "from keras.preprocessing.text import Tokenizer\n",
    "from keras.models import Sequential, load_model\n",
    "from keras.layers import Activation, Dense, Dropout\n",
    "from sklearn.preprocessing import LabelBinarizer\n",
    "import sklearn.datasets as skds\n",
    "from pathlib import Path"
   ]
  },
  {
   "cell_type": "code",
   "execution_count": 2,
   "metadata": {
    "collapsed": true
   },
   "outputs": [],
   "source": [
    "# For reproducibility\n",
    "np.random.seed(1237)\n",
    "\n",
    "# Source file directory\n",
    "path_train = \"datasets/20news-bydate/20news-bydate-train\"\n",
    "files_train = skds.load_files(path_train,load_content=False)\n",
    "\n",
    "label_index = files_train.target\n",
    "label_names = files_train.target_names\n",
    "labelled_files = files_train.filenames"
   ]
  },
  {
   "cell_type": "code",
   "execution_count": 3,
   "metadata": {},
   "outputs": [
    {
     "data": {
      "text/plain": [
       "array([ 9,  4, 11, ..., 16, 18,  4])"
      ]
     },
     "execution_count": 3,
     "metadata": {},
     "output_type": "execute_result"
    }
   ],
   "source": [
    "label_index"
   ]
  },
  {
   "cell_type": "code",
   "execution_count": 4,
   "metadata": {},
   "outputs": [
    {
     "data": {
      "text/plain": [
       "['alt.atheism',\n",
       " 'comp.graphics',\n",
       " 'comp.os.ms-windows.misc',\n",
       " 'comp.sys.ibm.pc.hardware',\n",
       " 'comp.sys.mac.hardware',\n",
       " 'comp.windows.x',\n",
       " 'misc.forsale',\n",
       " 'rec.autos',\n",
       " 'rec.motorcycles',\n",
       " 'rec.sport.baseball',\n",
       " 'rec.sport.hockey',\n",
       " 'sci.crypt',\n",
       " 'sci.electronics',\n",
       " 'sci.med',\n",
       " 'sci.space',\n",
       " 'soc.religion.christian',\n",
       " 'talk.politics.guns',\n",
       " 'talk.politics.mideast',\n",
       " 'talk.politics.misc',\n",
       " 'talk.religion.misc']"
      ]
     },
     "execution_count": 4,
     "metadata": {},
     "output_type": "execute_result"
    }
   ],
   "source": [
    "label_names"
   ]
  },
  {
   "cell_type": "code",
   "execution_count": 5,
   "metadata": {},
   "outputs": [
    {
     "data": {
      "text/plain": [
       "array(['datasets/20news-bydate/20news-bydate-train/rec.sport.baseball/102736',\n",
       "       'datasets/20news-bydate/20news-bydate-train/comp.sys.mac.hardware/50485',\n",
       "       'datasets/20news-bydate/20news-bydate-train/sci.crypt/15246', ...,\n",
       "       'datasets/20news-bydate/20news-bydate-train/talk.politics.guns/54663',\n",
       "       'datasets/20news-bydate/20news-bydate-train/talk.politics.misc/178534',\n",
       "       'datasets/20news-bydate/20news-bydate-train/comp.sys.mac.hardware/51858'],\n",
       "      dtype='<U73')"
      ]
     },
     "execution_count": 5,
     "metadata": {},
     "output_type": "execute_result"
    }
   ],
   "source": [
    "labelled_files"
   ]
  },
  {
   "cell_type": "code",
   "execution_count": 30,
   "metadata": {},
   "outputs": [],
   "source": [
    "data_tags = [\"filename\",\"category\",\"news\"]\n",
    "data_list = []\n",
    "\n",
    "# Read and add data from file to a list\n",
    "i=0\n",
    "for f in labelled_files:\n",
    "    with open(f, 'r', encoding='ISO-8859-1') as file:\n",
    "        contents = file.read().replace('\\n', ' ')\n",
    "        data_list.append((f,label_names[label_index[i]],contents))\n",
    "        i += 1"
   ]
  },
  {
   "cell_type": "code",
   "execution_count": 32,
   "metadata": {
    "collapsed": true
   },
   "outputs": [],
   "source": [
    "# We have training data available as dictionary filename, category, data\n",
    "data = pd.DataFrame.from_records(data_list, columns=data_tags)"
   ]
  },
  {
   "cell_type": "code",
   "execution_count": 33,
   "metadata": {},
   "outputs": [
    {
     "data": {
      "text/html": [
       "<div>\n",
       "<style>\n",
       "    .dataframe thead tr:only-child th {\n",
       "        text-align: right;\n",
       "    }\n",
       "\n",
       "    .dataframe thead th {\n",
       "        text-align: left;\n",
       "    }\n",
       "\n",
       "    .dataframe tbody tr th {\n",
       "        vertical-align: top;\n",
       "    }\n",
       "</style>\n",
       "<table border=\"1\" class=\"dataframe\">\n",
       "  <thead>\n",
       "    <tr style=\"text-align: right;\">\n",
       "      <th></th>\n",
       "      <th>filename</th>\n",
       "      <th>category</th>\n",
       "      <th>news</th>\n",
       "    </tr>\n",
       "  </thead>\n",
       "  <tbody>\n",
       "    <tr>\n",
       "      <th>0</th>\n",
       "      <td>datasets/20news-bydate/20news-bydate-train/rec...</td>\n",
       "      <td>rec.sport.baseball</td>\n",
       "      <td>From: cubbie@garnet.berkeley.edu (            ...</td>\n",
       "    </tr>\n",
       "    <tr>\n",
       "      <th>1</th>\n",
       "      <td>datasets/20news-bydate/20news-bydate-train/com...</td>\n",
       "      <td>comp.sys.mac.hardware</td>\n",
       "      <td>From: gnelson@pion.rutgers.edu (Gregory Nelson...</td>\n",
       "    </tr>\n",
       "    <tr>\n",
       "      <th>2</th>\n",
       "      <td>datasets/20news-bydate/20news-bydate-train/sci...</td>\n",
       "      <td>sci.crypt</td>\n",
       "      <td>From: crypt-comments@math.ncsu.edu Subject: Cr...</td>\n",
       "    </tr>\n",
       "    <tr>\n",
       "      <th>3</th>\n",
       "      <td>datasets/20news-bydate/20news-bydate-train/com...</td>\n",
       "      <td>comp.sys.mac.hardware</td>\n",
       "      <td>From:  () Subject: Re: Quadra SCSI Problems???...</td>\n",
       "    </tr>\n",
       "    <tr>\n",
       "      <th>4</th>\n",
       "      <td>datasets/20news-bydate/20news-bydate-train/alt...</td>\n",
       "      <td>alt.atheism</td>\n",
       "      <td>From: keith@cco.caltech.edu (Keith Allan Schne...</td>\n",
       "    </tr>\n",
       "  </tbody>\n",
       "</table>\n",
       "</div>"
      ],
      "text/plain": [
       "                                            filename               category  \\\n",
       "0  datasets/20news-bydate/20news-bydate-train/rec...     rec.sport.baseball   \n",
       "1  datasets/20news-bydate/20news-bydate-train/com...  comp.sys.mac.hardware   \n",
       "2  datasets/20news-bydate/20news-bydate-train/sci...              sci.crypt   \n",
       "3  datasets/20news-bydate/20news-bydate-train/com...  comp.sys.mac.hardware   \n",
       "4  datasets/20news-bydate/20news-bydate-train/alt...            alt.atheism   \n",
       "\n",
       "                                                news  \n",
       "0  From: cubbie@garnet.berkeley.edu (            ...  \n",
       "1  From: gnelson@pion.rutgers.edu (Gregory Nelson...  \n",
       "2  From: crypt-comments@math.ncsu.edu Subject: Cr...  \n",
       "3  From:  () Subject: Re: Quadra SCSI Problems???...  \n",
       "4  From: keith@cco.caltech.edu (Keith Allan Schne...  "
      ]
     },
     "execution_count": 33,
     "metadata": {},
     "output_type": "execute_result"
    }
   ],
   "source": [
    "data.head()"
   ]
  },
  {
   "cell_type": "code",
   "execution_count": 34,
   "metadata": {
    "collapsed": true
   },
   "outputs": [],
   "source": [
    "# lets take 80% data as training and remaining 20% for test.\n",
    "train_size = int(len(data) * .8)\n",
    "\n",
    "train_posts = data['news'][:train_size]\n",
    "train_tags = data['category'][:train_size]\n",
    "train_files_names = data['filename'][:train_size]\n",
    "\n",
    "test_posts = data['news'][train_size:]\n",
    "test_tags = data['category'][train_size:]\n",
    "test_files_names = data['filename'][train_size:]"
   ]
  },
  {
   "cell_type": "code",
   "execution_count": 35,
   "metadata": {
    "collapsed": true
   },
   "outputs": [],
   "source": [
    "# 20 news groups\n",
    "num_labels = 20\n",
    "vocab_size = 15000\n",
    "batch_size = 100\n",
    "\n",
    "# define Tokenizer with Vocab Size\n",
    "tokenizer = Tokenizer(num_words=vocab_size)\n",
    "tokenizer.fit_on_texts(train_posts)\n",
    "\n",
    "x_train = tokenizer.texts_to_matrix(train_posts, mode='tfidf')\n",
    "x_test = tokenizer.texts_to_matrix(test_posts, mode='tfidf')\n",
    "\n",
    "encoder = LabelBinarizer()\n",
    "encoder.fit(train_tags)\n",
    "y_train = encoder.transform(train_tags)\n",
    "y_test = encoder.transform(test_tags)"
   ]
  },
  {
   "cell_type": "code",
   "execution_count": 39,
   "metadata": {},
   "outputs": [
    {
     "data": {
      "text/plain": [
       "array([ 0.        ,  1.89863301,  1.2686438 , ...,  0.        ,\n",
       "        0.        ,  0.        ])"
      ]
     },
     "execution_count": 39,
     "metadata": {},
     "output_type": "execute_result"
    }
   ],
   "source": [
    "x_train[0]"
   ]
  },
  {
   "cell_type": "code",
   "execution_count": 38,
   "metadata": {},
   "outputs": [
    {
     "data": {
      "text/plain": [
       "array([0, 0, 0, 0, 0, 0, 0, 0, 0, 1, 0, 0, 0, 0, 0, 0, 0, 0, 0, 0])"
      ]
     },
     "execution_count": 38,
     "metadata": {},
     "output_type": "execute_result"
    }
   ],
   "source": [
    "y_train[0]"
   ]
  },
  {
   "cell_type": "code",
   "execution_count": 40,
   "metadata": {},
   "outputs": [
    {
     "name": "stdout",
     "output_type": "stream",
     "text": [
      "_________________________________________________________________\n",
      "Layer (type)                 Output Shape              Param #   \n",
      "=================================================================\n",
      "dense_1 (Dense)              (None, 512)               7680512   \n",
      "_________________________________________________________________\n",
      "activation_1 (Activation)    (None, 512)               0         \n",
      "_________________________________________________________________\n",
      "dropout_1 (Dropout)          (None, 512)               0         \n",
      "_________________________________________________________________\n",
      "dense_2 (Dense)              (None, 512)               262656    \n",
      "_________________________________________________________________\n",
      "activation_2 (Activation)    (None, 512)               0         \n",
      "_________________________________________________________________\n",
      "dropout_2 (Dropout)          (None, 512)               0         \n",
      "_________________________________________________________________\n",
      "dense_3 (Dense)              (None, 20)                10260     \n",
      "_________________________________________________________________\n",
      "activation_3 (Activation)    (None, 20)                0         \n",
      "=================================================================\n",
      "Total params: 7,953,428\n",
      "Trainable params: 7,953,428\n",
      "Non-trainable params: 0\n",
      "_________________________________________________________________\n",
      "Train on 8145 samples, validate on 906 samples\n",
      "Epoch 1/30\n",
      "8145/8145 [==============================] - 14s 2ms/step - loss: 1.1790 - acc: 0.6939 - val_loss: 0.4318 - val_acc: 0.8764\n",
      "Epoch 2/30\n",
      "8145/8145 [==============================] - 13s 2ms/step - loss: 0.1371 - acc: 0.9713 - val_loss: 0.4379 - val_acc: 0.8951\n",
      "Epoch 3/30\n",
      "8145/8145 [==============================] - 14s 2ms/step - loss: 0.0522 - acc: 0.9919 - val_loss: 0.3920 - val_acc: 0.9062\n",
      "Epoch 4/30\n",
      "8145/8145 [==============================] - 15s 2ms/step - loss: 0.0433 - acc: 0.9944 - val_loss: 0.3968 - val_acc: 0.8974\n",
      "Epoch 5/30\n",
      "8145/8145 [==============================] - 13s 2ms/step - loss: 0.0368 - acc: 0.9955 - val_loss: 0.5857 - val_acc: 0.8764\n",
      "Epoch 6/30\n",
      "8145/8145 [==============================] - 14s 2ms/step - loss: 0.0676 - acc: 0.9904 - val_loss: 0.5570 - val_acc: 0.8885\n",
      "Epoch 7/30\n",
      "8145/8145 [==============================] - 12s 1ms/step - loss: 0.0581 - acc: 0.9909 - val_loss: 0.6402 - val_acc: 0.8753\n",
      "Epoch 8/30\n",
      "8145/8145 [==============================] - 14s 2ms/step - loss: 0.0456 - acc: 0.9947 - val_loss: 0.5179 - val_acc: 0.8918\n",
      "Epoch 9/30\n",
      "8145/8145 [==============================] - 13s 2ms/step - loss: 0.0458 - acc: 0.9955 - val_loss: 0.4989 - val_acc: 0.9007\n",
      "Epoch 10/30\n",
      "8145/8145 [==============================] - 12s 1ms/step - loss: 0.0310 - acc: 0.9969 - val_loss: 0.4760 - val_acc: 0.8996\n",
      "Epoch 11/30\n",
      "8145/8145 [==============================] - 12s 1ms/step - loss: 0.0331 - acc: 0.9972 - val_loss: 0.4879 - val_acc: 0.8996\n",
      "Epoch 12/30\n",
      "8145/8145 [==============================] - 13s 2ms/step - loss: 0.0288 - acc: 0.9972 - val_loss: 0.6620 - val_acc: 0.8764\n",
      "Epoch 13/30\n",
      "8145/8145 [==============================] - 13s 2ms/step - loss: 0.0400 - acc: 0.9955 - val_loss: 0.5733 - val_acc: 0.8929\n",
      "Epoch 14/30\n",
      "8145/8145 [==============================] - 12s 2ms/step - loss: 0.0347 - acc: 0.9967 - val_loss: 0.5844 - val_acc: 0.8918\n",
      "Epoch 15/30\n",
      "8145/8145 [==============================] - 12s 1ms/step - loss: 0.0341 - acc: 0.9971 - val_loss: 0.6103 - val_acc: 0.8940\n",
      "Epoch 16/30\n",
      "8145/8145 [==============================] - 12s 2ms/step - loss: 0.0303 - acc: 0.9974 - val_loss: 0.6317 - val_acc: 0.8819\n",
      "Epoch 17/30\n",
      "8145/8145 [==============================] - 12s 1ms/step - loss: 0.0841 - acc: 0.9903 - val_loss: 0.6684 - val_acc: 0.8841\n",
      "Epoch 18/30\n",
      "8145/8145 [==============================] - 12s 1ms/step - loss: 0.0614 - acc: 0.9929 - val_loss: 0.6755 - val_acc: 0.8830\n",
      "Epoch 19/30\n",
      "8145/8145 [==============================] - 12s 1ms/step - loss: 0.0497 - acc: 0.9945 - val_loss: 0.6487 - val_acc: 0.8962\n",
      "Epoch 20/30\n",
      "8145/8145 [==============================] - 12s 1ms/step - loss: 0.0407 - acc: 0.9957 - val_loss: 0.6359 - val_acc: 0.8940\n",
      "Epoch 21/30\n",
      "8145/8145 [==============================] - 12s 1ms/step - loss: 0.0456 - acc: 0.9953 - val_loss: 0.7280 - val_acc: 0.8819\n",
      "Epoch 22/30\n",
      "8145/8145 [==============================] - 12s 1ms/step - loss: 0.0388 - acc: 0.9964 - val_loss: 0.7687 - val_acc: 0.8786\n",
      "Epoch 23/30\n",
      "8145/8145 [==============================] - 12s 1ms/step - loss: 0.0652 - acc: 0.9937 - val_loss: 0.8304 - val_acc: 0.8764\n",
      "Epoch 24/30\n",
      "8145/8145 [==============================] - 13s 2ms/step - loss: 0.1134 - acc: 0.9865 - val_loss: 0.9406 - val_acc: 0.8698\n",
      "Epoch 25/30\n",
      "8145/8145 [==============================] - 16s 2ms/step - loss: 0.0863 - acc: 0.9891 - val_loss: 0.8197 - val_acc: 0.8786\n",
      "Epoch 26/30\n",
      "8145/8145 [==============================] - 15s 2ms/step - loss: 0.0884 - acc: 0.9902 - val_loss: 1.0128 - val_acc: 0.8543\n",
      "Epoch 27/30\n",
      "8145/8145 [==============================] - 13s 2ms/step - loss: 0.1676 - acc: 0.9785 - val_loss: 1.0388 - val_acc: 0.8587\n",
      "Epoch 28/30\n",
      "8145/8145 [==============================] - 14s 2ms/step - loss: 0.0985 - acc: 0.9870 - val_loss: 1.1453 - val_acc: 0.8477\n",
      "Epoch 29/30\n",
      "8145/8145 [==============================] - 14s 2ms/step - loss: 0.0553 - acc: 0.9925 - val_loss: 1.0353 - val_acc: 0.8698\n",
      "Epoch 30/30\n",
      "8145/8145 [==============================] - 14s 2ms/step - loss: 0.0369 - acc: 0.9963 - val_loss: 0.9159 - val_acc: 0.8753\n"
     ]
    }
   ],
   "source": [
    "model = Sequential()\n",
    "model.add(Dense(512, input_shape=(vocab_size,)))\n",
    "model.add(Activation('relu'))\n",
    "model.add(Dropout(0.3))\n",
    "model.add(Dense(512))\n",
    "model.add(Activation('relu'))\n",
    "model.add(Dropout(0.3))\n",
    "model.add(Dense(num_labels))\n",
    "model.add(Activation('softmax'))\n",
    "model.summary()\n",
    "\n",
    "model.compile(loss='categorical_crossentropy',\n",
    "              optimizer='adam',\n",
    "              metrics=['accuracy'])\n",
    "\n",
    "history = model.fit(x_train, y_train,\n",
    "                    batch_size=batch_size,\n",
    "                    epochs=30,\n",
    "                    verbose=1,\n",
    "                    validation_split=0.1)"
   ]
  },
  {
   "cell_type": "code",
   "execution_count": 41,
   "metadata": {},
   "outputs": [
    {
     "name": "stdout",
     "output_type": "stream",
     "text": [
      "2263/2263 [==============================] - 1s 507us/step\n",
      "Test accuracy: 0.87936367701\n",
      "datasets/20news-bydate/20news-bydate-train/alt.atheism/53114\n",
      "Actual label:alt.atheism\n",
      "Predicted label: alt.atheism\n",
      "datasets/20news-bydate/20news-bydate-train/comp.graphics/38666\n",
      "Actual label:comp.graphics\n",
      "Predicted label: comp.graphics\n",
      "datasets/20news-bydate/20news-bydate-train/sci.med/58932\n",
      "Actual label:sci.med\n",
      "Predicted label: sci.med\n",
      "datasets/20news-bydate/20news-bydate-train/sci.crypt/15212\n",
      "Actual label:sci.crypt\n",
      "Predicted label: sci.crypt\n",
      "datasets/20news-bydate/20news-bydate-train/comp.os.ms-windows.misc/9695\n",
      "Actual label:comp.os.ms-windows.misc\n",
      "Predicted label: comp.os.ms-windows.misc\n",
      "datasets/20news-bydate/20news-bydate-train/rec.sport.baseball/104482\n",
      "Actual label:rec.sport.baseball\n",
      "Predicted label: rec.sport.baseball\n",
      "datasets/20news-bydate/20news-bydate-train/soc.religion.christian/20731\n",
      "Actual label:soc.religion.christian\n",
      "Predicted label: sci.med\n",
      "datasets/20news-bydate/20news-bydate-train/comp.graphics/38583\n",
      "Actual label:comp.graphics\n",
      "Predicted label: comp.graphics\n",
      "datasets/20news-bydate/20news-bydate-train/rec.sport.hockey/52638\n",
      "Actual label:rec.sport.hockey\n",
      "Predicted label: rec.sport.hockey\n",
      "datasets/20news-bydate/20news-bydate-train/rec.sport.hockey/52636\n",
      "Actual label:rec.sport.hockey\n",
      "Predicted label: rec.sport.hockey\n"
     ]
    }
   ],
   "source": [
    "score = model.evaluate(x_test, y_test,\n",
    "                       batch_size=batch_size, verbose=1)\n",
    "\n",
    "print('Test accuracy:', score[1])\n",
    "\n",
    "text_labels = encoder.classes_\n",
    "\n",
    "for i in range(10):\n",
    "    prediction = model.predict(np.array([x_test[i]]))\n",
    "    predicted_label = text_labels[np.argmax(prediction[0])]\n",
    "    print(test_files_names.iloc[i])\n",
    "    print('Actual label:' + test_tags.iloc[i])\n",
    "    print(\"Predicted label: \" + predicted_label)"
   ]
  },
  {
   "cell_type": "code",
   "execution_count": 43,
   "metadata": {},
   "outputs": [],
   "source": [
    "# creates a HDF5 file\n",
    "model.model.save('models/20newsgroups_model.h5')\n",
    "\n",
    "# Save Tokenizer i.e. Vocabulary\n",
    "with open('models/20newsgroups_tokenizer.pickle', 'wb') as handle:\n",
    "    pickle.dump(tokenizer, handle, protocol=pickle.HIGHEST_PROTOCOL)"
   ]
  },
  {
   "cell_type": "code",
   "execution_count": 46,
   "metadata": {},
   "outputs": [],
   "source": [
    "# load our saved model\n",
    "model = load_model('models/20newsgroups_model.h5')\n",
    "\n",
    "# load tokenizer\n",
    "tokenizer = Tokenizer()\n",
    "with open('models/20newsgroups_tokenizer.pickle', 'rb') as handle:\n",
    "    tokenizer = pickle.load(handle)"
   ]
  },
  {
   "cell_type": "code",
   "execution_count": 47,
   "metadata": {},
   "outputs": [
    {
     "data": {
      "text/plain": [
       "array(['alt.atheism', 'comp.graphics', 'comp.os.ms-windows.misc',\n",
       "       'comp.sys.ibm.pc.hardware', 'comp.sys.mac.hardware',\n",
       "       'comp.windows.x', 'misc.forsale', 'rec.autos', 'rec.motorcycles',\n",
       "       'rec.sport.baseball', 'rec.sport.hockey', 'sci.crypt',\n",
       "       'sci.electronics', 'sci.med', 'sci.space', 'soc.religion.christian',\n",
       "       'talk.politics.guns', 'talk.politics.mideast', 'talk.politics.misc',\n",
       "       'talk.religion.misc'],\n",
       "      dtype='<U24')"
      ]
     },
     "execution_count": 47,
     "metadata": {},
     "output_type": "execute_result"
    }
   ],
   "source": [
    "encoder.classes_ #LabelBinarizer"
   ]
  },
  {
   "cell_type": "code",
   "execution_count": 48,
   "metadata": {},
   "outputs": [
    {
     "name": "stdout",
     "output_type": "stream",
     "text": [
      "File -> datasets/20news-bydate/20news-bydate-test/comp.graphics/38758 Predicted label: comp.graphics\n",
      "File -> datasets/20news-bydate/20news-bydate-test/misc.forsale/76115 Predicted label: misc.forsale\n",
      "File -> datasets/20news-bydate/20news-bydate-test/soc.religion.christian/21329 Predicted label: soc.religion.christian\n"
     ]
    }
   ],
   "source": [
    "# These are the labels we stored from our training\n",
    "# The order is very important here.\n",
    "\n",
    "labels = np.array(['alt.atheism', 'comp.graphics', 'comp.os.ms-windows.misc',\n",
    " 'comp.sys.ibm.pc.hardware', 'comp.sys.mac.hardware', 'comp.windows.x',\n",
    " 'misc.forsale', 'rec.autos', 'rec.motorcycles', 'rec.sport.baseball',\n",
    " 'rec.sport.hockey', 'sci.crypt', 'sci.electronics', 'sci.med', 'sci.space',\n",
    " 'soc.religion.christian', 'talk.politics.guns', 'talk.politics.mideast',\n",
    " 'talk.politics.misc', 'talk.religion.misc'])\n",
    "\n",
    "test_files = [\"datasets/20news-bydate/20news-bydate-test/comp.graphics/38758\",\n",
    "              \"datasets/20news-bydate/20news-bydate-test/misc.forsale/76115\",\n",
    "              \"datasets/20news-bydate/20news-bydate-test/soc.religion.christian/21329\"\n",
    "              ]\n",
    "x_data = []\n",
    "for t_f in test_files:\n",
    "    t_f_data = Path(t_f).read_text()\n",
    "    x_data.append(t_f_data)\n",
    "\n",
    "x_data_series = pd.Series(x_data)\n",
    "x_tokenized = tokenizer.texts_to_matrix(x_data_series, mode='tfidf')\n",
    "\n",
    "i=0\n",
    "for x_t in x_tokenized:\n",
    "    prediction = model.predict(np.array([x_t]))\n",
    "    predicted_label = labels[np.argmax(prediction[0])]\n",
    "    print(\"File ->\", test_files[i], \"Predicted label: \" + predicted_label)\n",
    "    i += 1"
   ]
  }
 ],
 "metadata": {
  "kernelspec": {
   "display_name": "Python 3",
   "language": "python",
   "name": "python3"
  },
  "language_info": {
   "codemirror_mode": {
    "name": "ipython",
    "version": 3
   },
   "file_extension": ".py",
   "mimetype": "text/x-python",
   "name": "python",
   "nbconvert_exporter": "python",
   "pygments_lexer": "ipython3",
   "version": "3.6.3"
  }
 },
 "nbformat": 4,
 "nbformat_minor": 2
}
